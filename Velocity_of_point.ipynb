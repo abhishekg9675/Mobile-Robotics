{
 "cells": [
  {
   "cell_type": "code",
   "execution_count": 18,
   "id": "bcb687c4-6514-4536-a6af-d4c8a55566d7",
   "metadata": {},
   "outputs": [],
   "source": [
    "import Rotation_Matrix\n",
    "import numpy as np"
   ]
  },
  {
   "cell_type": "code",
   "execution_count": 19,
   "id": "e97e8cf7-3874-40cd-8182-e990d163e494",
   "metadata": {},
   "outputs": [
    {
     "name": "stdin",
     "output_type": "stream",
     "text": [
      "Enter Co-ordinate in Robot Frame: 1,2,3\n"
     ]
    }
   ],
   "source": [
    "OR_coordinate = input(\"Enter Co-ordinate in Robot Frame:\")\n",
    " \n",
    "OR_coordinate = list(OR_coordinate.split(','))\n",
    "OR_coordinate = list(map(float, OR_coordinate))\n",
    "assert len(OR_coordinate) == 3, 'Enter 3 Coordinates'"
   ]
  },
  {
   "cell_type": "code",
   "execution_count": 20,
   "id": "661a949d-f447-4289-9605-537d29b54180",
   "metadata": {},
   "outputs": [
    {
     "name": "stdin",
     "output_type": "stream",
     "text": [
      "Enter Angle of Robot Frame wrt Base: 90\n"
     ]
    },
    {
     "name": "stdout",
     "output_type": "stream",
     "text": [
      "90.0\n"
     ]
    }
   ],
   "source": [
    "OR_angle = float(input(\"Enter Angle of Robot Frame wrt Base:\"))"
   ]
  },
  {
   "cell_type": "code",
   "execution_count": 21,
   "id": "c02725c9-4161-45ed-aaa6-dd908346236a",
   "metadata": {},
   "outputs": [
    {
     "name": "stdin",
     "output_type": "stream",
     "text": [
      "Enter Velocity of Robot Frame wrt Base (in Robot Frame): 1,2,3\n"
     ]
    }
   ],
   "source": [
    "OR_velocity = input(\"Enter Velocity of Robot Frame wrt Base (in Robot Frame):\")\n",
    " \n",
    "OR_velocity = list(OR_velocity.split(','))\n",
    "OR_velocity = list(map(float, OR_velocity))\n",
    "\n",
    "assert len(OR_velocity) == 3, 'Enter 3 Coordinates'"
   ]
  },
  {
   "cell_type": "code",
   "execution_count": 22,
   "id": "71158c54-57f2-4ddf-a53b-7c6530319553",
   "metadata": {},
   "outputs": [],
   "source": [
    "OR_OG_velocity = Rotation_Matrix.rotation_matrix('z',OR_angle) @ np.reshape(OR_velocity, (-1,1))"
   ]
  },
  {
   "cell_type": "code",
   "execution_count": 23,
   "id": "83ac3b8d-283c-42b2-a4e5-a76e99714879",
   "metadata": {},
   "outputs": [
    {
     "name": "stdout",
     "output_type": "stream",
     "text": [
      "[[-3.]\n",
      " [-1.]\n",
      " [ 6.]]\n"
     ]
    }
   ],
   "source": [
    "OG_velocity = OR_OG_velocity + (Rotation_Matrix.rotation_matrix('z',OR_angle,True)) @ np.reshape(OR_coordinate, (-1,1))\n",
    "\n",
    "print(OG_velocity)"
   ]
  },
  {
   "cell_type": "code",
   "execution_count": null,
   "id": "dc59f37e-60a6-42dc-a7c5-6bb337e77acd",
   "metadata": {},
   "outputs": [],
   "source": []
  }
 ],
 "metadata": {
  "kernelspec": {
   "display_name": "Python 3 (ipykernel)",
   "language": "python",
   "name": "python3"
  },
  "language_info": {
   "codemirror_mode": {
    "name": "ipython",
    "version": 3
   },
   "file_extension": ".py",
   "mimetype": "text/x-python",
   "name": "python",
   "nbconvert_exporter": "python",
   "pygments_lexer": "ipython3",
   "version": "3.9.9"
  }
 },
 "nbformat": 4,
 "nbformat_minor": 5
}
