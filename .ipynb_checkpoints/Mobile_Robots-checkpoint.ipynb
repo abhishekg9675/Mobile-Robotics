{
 "cells": [
  {
   "cell_type": "code",
   "execution_count": 292,
   "id": "d1593861-d894-48e6-8717-3e982f9b35f9",
   "metadata": {},
   "outputs": [],
   "source": [
    "import numpy as np"
   ]
  },
  {
   "cell_type": "code",
   "execution_count": 293,
   "id": "41e0b401-2f0f-461f-b3a0-25ee5627dab9",
   "metadata": {},
   "outputs": [],
   "source": [
    "def roll_condition(wheel_data): \n",
    "    \n",
    "    roll_matrix = np.zeros((len(wheel_data), 3))\n",
    "    \n",
    "    for i in range(len(wheel_data)):\n",
    "        wheel_type = wheel_data[i+1]['wheel_type']\n",
    "        alpha = wheel_data[i+1]['alpha'] * np.pi/180\n",
    "        beta = wheel_data[i+1]['beta'] * np.pi/180\n",
    "        gamma = wheel_data[i+1]['gamma'] * np.pi/180\n",
    "        l = wheel_data[i+1]['l']\n",
    "        d = wheel_data[i+1]['d']\n",
    "        r = wheel_data[i+1]['r']\n",
    "\n",
    "        roll_matrix[i,:] = np.array([np.sin(alpha+beta+gamma), -np.cos(alpha+beta+gamma), -l*np.cos(beta+gamma)])\n",
    "    \n",
    "    \n",
    "    return np.around(roll_matrix,4)"
   ]
  },
  {
   "cell_type": "code",
   "execution_count": 294,
   "id": "53153a54-6efe-4ba8-8c08-5c12b52a8ace",
   "metadata": {},
   "outputs": [],
   "source": [
    "def radius_data(wheel_data):\n",
    "    \n",
    "    a=np.array([])\n",
    "    for i in range(len(wheel_data)):\n",
    "        a = np.append(a, wheel_data[i+1]['r'] * np.cos(wheel_data[i+1]['gamma'] * np.pi/180))   \n",
    "        \n",
    "    return np.around(np.diag(a),4)"
   ]
  },
  {
   "cell_type": "code",
   "execution_count": 295,
   "id": "5f5ca612-1ad5-4986-8f26-4aed0da80f24",
   "metadata": {},
   "outputs": [],
   "source": [
    "def no_slip_condition(wheel_data):\n",
    "    \n",
    "    no_slip_matrix = np.empty((1,3))\n",
    "    dos_matrix = np.empty((1,3))\n",
    "\n",
    "    for i in range(len(wheel_data)):\n",
    "        wheel_type = wheel_data[i+1]['wheel_type']\n",
    "        alpha = wheel_data[i+1]['alpha'] * np.pi/180\n",
    "        beta = wheel_data[i+1]['beta'] * np.pi/180\n",
    "        gamma = wheel_data[i+1]['gamma'] * np.pi/180\n",
    "        l = wheel_data[i+1]['l']\n",
    "        d = wheel_data[i+1]['d']\n",
    "        r = wheel_data[i+1]['r']\n",
    "        \n",
    "        if (wheel_type == 'f' or wheel_type == 's'):\n",
    "            temp_array = np.array([[np.cos(alpha+beta+gamma), np.sin(alpha+beta+gamma), l*np.sin(beta+gamma)]])\n",
    "            if wheel_type == 's':\n",
    "                dos_matrix = np.vstack((dos_matrix, temp_array))\n",
    "            no_slip_matrix = np.vstack((no_slip_matrix, temp_array))\n",
    "        temp_array = np.around(no_slip_matrix[1:,:],4)\n",
    "        \n",
    "        #Degree of Mobility and Steerability\n",
    "        dos = np.linalg.matrix_rank(dos_matrix[1:,:]) if dos_matrix[1:,:].size != 0 else 0\n",
    "        dom = 3-np.linalg.matrix_rank(temp_array)\n",
    "    return temp_array, (dom, dos)"
   ]
  },
  {
   "cell_type": "code",
   "execution_count": 299,
   "id": "cc80c3a2-fa8e-4e18-8e17-e96aa551c904",
   "metadata": {},
   "outputs": [],
   "source": [
    "#Robot Wheel Definition\n",
    "wheel_data = {1: {'wheel_type':'f' , 'alpha':-90, 'beta':0, 'gamma':0, 'l':250, 'd':0, 'r':100},\n",
    "             2: {'wheel_type':'f' , 'alpha':90, 'beta':0, 'gamma':0, 'l':250, 'd':0, 'r':100},\n",
    "             3: {'wheel_type':'sw' , 'alpha':0, 'beta':0, 'gamma':45, 'l':250, 'd':0, 'r':100},\n",
    "             4: {'wheel_type':'sw' , 'alpha':120, 'beta':0, 'gamma':45, 'l':250, 'd':0, 'r':100},\n",
    "             5: {'wheel_type':'sw' , 'alpha':-120, 'beta':0, 'gamma':45, 'l':250, 'd':0, 'r':100}}"
   ]
  },
  {
   "cell_type": "code",
   "execution_count": 297,
   "id": "cb8cad32-6654-47c7-9c20-bb400d7afe7e",
   "metadata": {},
   "outputs": [],
   "source": [
    "J1 = roll_condition(wheel_data)\n",
    "J2 = radius_data(wheel_data)\n",
    "C1, (dom,dos) = no_slip_condition(wheel_data)"
   ]
  },
  {
   "cell_type": "code",
   "execution_count": 306,
   "id": "76ce3426-7163-4dc4-9c00-1a80b21ca357",
   "metadata": {},
   "outputs": [
    {
     "name": "stdin",
     "output_type": "stream",
     "text": [
      "Enter Velocity [x, y, theta]:  1,2,3\n"
     ]
    },
    {
     "name": "stdout",
     "output_type": "stream",
     "text": [
      "[1.0, 2.0, 3.0] m/s\n",
      "Velocity Not Possible\n"
     ]
    }
   ],
   "source": [
    "#Check if velocity is possible or not\n",
    "\n",
    "v = n=list(map(float, input('Enter Velocity [x, y, theta]: ').strip().split(',')))\n",
    "print(v, 'm/s')\n",
    "\n",
    "v = np.reshape(np.array(v), (-1,1))\n",
    "check = 'Velocity Not Possible' if (C1 @ v).all() != 0 else 'Velocity Possible'\n",
    "print(check)"
   ]
  },
  {
   "cell_type": "code",
   "execution_count": null,
   "id": "eb766f85-919a-49b7-99ba-b49eb8385e12",
   "metadata": {},
   "outputs": [],
   "source": []
  }
 ],
 "metadata": {
  "kernelspec": {
   "display_name": "Python 3 (ipykernel)",
   "language": "python",
   "name": "python3"
  },
  "language_info": {
   "codemirror_mode": {
    "name": "ipython",
    "version": 3
   },
   "file_extension": ".py",
   "mimetype": "text/x-python",
   "name": "python",
   "nbconvert_exporter": "python",
   "pygments_lexer": "ipython3",
   "version": "3.9.9"
  }
 },
 "nbformat": 4,
 "nbformat_minor": 5
}
