{
 "cells": [
  {
   "cell_type": "code",
   "execution_count": 1,
   "id": "829f106d-4918-4332-9dda-9d0503a035f3",
   "metadata": {},
   "outputs": [],
   "source": [
    "import numpy as np"
   ]
  },
  {
   "cell_type": "code",
   "execution_count": 64,
   "id": "e2c264c2-dd95-4e03-b01b-b5afa27723f5",
   "metadata": {},
   "outputs": [
    {
     "name": "stdin",
     "output_type": "stream",
     "text": [
      "Enter Total number of Fixed Wheels 0\n"
     ]
    },
    {
     "name": "stdout",
     "output_type": "stream",
     "text": [
      "[]\n"
     ]
    },
    {
     "name": "stdin",
     "output_type": "stream",
     "text": [
      "Enter Total number of Steering Wheels 0\n"
     ]
    },
    {
     "name": "stdout",
     "output_type": "stream",
     "text": [
      "[]\n"
     ]
    },
    {
     "name": "stdin",
     "output_type": "stream",
     "text": [
      "Enter Total number of Caster Wheels 0\n"
     ]
    },
    {
     "name": "stdout",
     "output_type": "stream",
     "text": [
      "[]\n"
     ]
    },
    {
     "name": "stdin",
     "output_type": "stream",
     "text": [
      "Enter Total number of Swedish Wheels 3\n"
     ]
    },
    {
     "name": "stdout",
     "output_type": "stream",
     "text": [
      "Enter [L, R, Alpha, Beta, Gamma] for Swedish Wheel No.1\n"
     ]
    },
    {
     "name": "stdin",
     "output_type": "stream",
     "text": [
      " 200,100,0,0,0\n"
     ]
    },
    {
     "name": "stdout",
     "output_type": "stream",
     "text": [
      "Enter [L, R, Alpha, Beta, Gamma] for Swedish Wheel No.2\n"
     ]
    },
    {
     "name": "stdin",
     "output_type": "stream",
     "text": [
      " 200,100,120,0,0\n"
     ]
    },
    {
     "name": "stdout",
     "output_type": "stream",
     "text": [
      "Enter [L, R, Alpha, Beta, Gamma] for Swedish Wheel No.3\n"
     ]
    },
    {
     "name": "stdin",
     "output_type": "stream",
     "text": [
      " 200,100,-120,0,0\n"
     ]
    },
    {
     "name": "stdout",
     "output_type": "stream",
     "text": [
      "[[ 200.  100.    0.    0.    0.]\n",
      " [ 200.  100.  120.    0.    0.]\n",
      " [ 200.  100. -120.    0.    0.]]\n"
     ]
    }
   ],
   "source": [
    "nf = int(input('Enter Total number of Fixed Wheels'))\n",
    "nf_data = np.empty((nf,4))\n",
    "for i in range(nf):\n",
    "    print(\"Enter [L, R, Alpha, Beta] for Fixed Wheel No.{}\".format(i+1))\n",
    "    temp_list = input()\n",
    "    temp_list = list(temp_list.split(','))\n",
    "    temp_list = list(map(float, temp_list))\n",
    "    nf_data[i,:] = np.asarray(temp_list)\n",
    "print(nf_data)\n",
    "\n",
    "ns = int(input('Enter Total number of Steering Wheels'))\n",
    "ns_data = np.empty((ns,4))\n",
    "for i in range(ns):\n",
    "    print(\"Enter [L, R, Alpha, Beta] for Steering Wheel No.{}\".format(i+1))\n",
    "    temp_list = input()\n",
    "    temp_list = list(temp_list.split(','))\n",
    "    temp_list = list(map(float, temp_list))\n",
    "    ns_data[i,:] = np.asarray(temp_list)\n",
    "print(ns_data)\n",
    "\n",
    "nc = int(input('Enter Total number of Caster Wheels'))\n",
    "nc_data = np.empty((nc,4))\n",
    "for i in range(nc):\n",
    "    print(\"Enter [L, R, Alpha, Beta] for Caster Wheel No.{}\".format(i+1))\n",
    "    temp_list = input()\n",
    "    temp_list = list(temp_list.split(','))\n",
    "    temp_list = list(map(float, temp_list))\n",
    "    nc_data[i,:] = np.asarray(temp_list)\n",
    "print(nc_data)\n",
    "\n",
    "nsw = int(input('Enter Total number of Swedish Wheels'))\n",
    "nsw_data = np.empty((nsw,5))\n",
    "for i in range(nsw):\n",
    "    print(\"Enter [L, R, Alpha, Beta, Gamma] for Swedish Wheel No.{}\".format(i+1))\n",
    "    temp_list = input()\n",
    "    temp_list = list(temp_list.split(','))\n",
    "    temp_list = list(map(float, temp_list))\n",
    "    nsw_data[i,:] = np.asarray(temp_list)\n",
    "print(nsw_data)"
   ]
  },
  {
   "cell_type": "code",
   "execution_count": 65,
   "id": "9fa33e1b-572a-4076-8bfe-c14e31e6fc02",
   "metadata": {},
   "outputs": [],
   "source": [
    "def build_roll_matrix(wheeltype, wheelparams):\n",
    "    #Wheel Params = Al\n",
    "    if wheeltype == 'fixed':\n",
    "        L, R, Alpha, Beta = wheelparams\n",
    "        Alpha = np.radians(Alpha)\n",
    "        Beta = np.radians(Beta)\n",
    "        return np.array([np.sin(Alpha+Beta), -np.cos(Alpha+Beta), -L*np.cos(Beta)])\n",
    "    if wheeltype == 'steering':\n",
    "        L, R, Alpha, Beta = wheelparams\n",
    "        Alpha = np.radians(Alpha)\n",
    "        Beta = np.radians(Beta)\n",
    "        return np.array([np.sin(Alpha+Beta), -np.cos(Alpha+Beta), -L*np.cos(Beta)])\n",
    "    if wheeltype == 'caster':\n",
    "        L, R, Alpha, Beta = wheelparams\n",
    "        Alpha = np.radians(Alpha)\n",
    "        Beta = np.radians(Beta)\n",
    "        return np.array([np.sin(Alpha+Beta), -np.cos(Alpha+Beta), -L*np.cos(Beta)])\n",
    "    if wheeltype == 'swedish':\n",
    "        L, R, Alpha, Beta, Gamma = wheelparams\n",
    "        Alpha = np.radians(Alpha)\n",
    "        Beta = np.radians(Beta)\n",
    "        Gamma = np.radians(Gamma)\n",
    "        return np.array([np.sin(Alpha+Beta+Gamma), -np.cos(Alpha+Beta+Gamma), -L*np.cos(Beta+Gamma)])\n"
   ]
  },
  {
   "cell_type": "code",
   "execution_count": 66,
   "id": "5911191e-94af-46b1-b61a-2cffc7d785c8",
   "metadata": {},
   "outputs": [
    {
     "name": "stdout",
     "output_type": "stream",
     "text": [
      "[[   0.      -1.    -200.   ]\n",
      " [   0.866    0.5   -200.   ]\n",
      " [  -0.866    0.5   -200.   ]]\n"
     ]
    }
   ],
   "source": [
    "#Build J1\n",
    "\n",
    "n = nf + ns + nc + nsw\n",
    "\n",
    "j1 = np.zeros((n,3))\n",
    "\n",
    "for i in range(nf):\n",
    "    j1[i] = build_roll_matrix('fixed', nf_data[i,:])\n",
    "for i in range(ns):\n",
    "    j1[nf+i] = build_roll_matrix('steering', ns_data[i,:])\n",
    "for i in range(nc):\n",
    "    j1[nf+ns+i] = build_roll_matrix('caster', nc_data[i,:])\n",
    "for i in range(nsw):\n",
    "    j1[nf+ns+nc+i] = build_roll_matrix('swedish', nsw_data[i,:])\n",
    "\n",
    "j1 = np.around(j1, 4)\n",
    "#print(j1)"
   ]
  },
  {
   "cell_type": "code",
   "execution_count": 67,
   "id": "8e45ef25-5dec-4e70-9259-bf614c4e3c27",
   "metadata": {},
   "outputs": [
    {
     "name": "stdout",
     "output_type": "stream",
     "text": [
      "[[100.   0.   0.]\n",
      " [  0. 100.   0.]\n",
      " [  0.   0. 100.]]\n"
     ]
    }
   ],
   "source": [
    "#Build J2\n",
    "j2 = np.zeros((n,n))\n",
    "\n",
    "\n",
    "for i in range(nf):\n",
    "    j2[i,i] = nf_data[i,1]\n",
    "for i in range(ns):\n",
    "    j2[nf+i,nf+i] = ns_data[i,1]\n",
    "for i in range(nc):\n",
    "    j2[nf+ns+i,nf+ns+i] = nc_data[i,1]\n",
    "for i in range(nsw):\n",
    "    j2[nf+ns+nc+i,nf+ns+nc+i] = nsw_data[i,1] * np.cos(np.radians(nsw_data[i,4]))\n",
    "    \n",
    "#print(j2)"
   ]
  },
  {
   "cell_type": "code",
   "execution_count": 70,
   "id": "b15d3455-9e1d-4dd7-9fe6-b65bd3270670",
   "metadata": {},
   "outputs": [
    {
     "name": "stdout",
     "output_type": "stream",
     "text": [
      "[[1000]\n",
      " [   0]\n",
      " [   0]]\n"
     ]
    }
   ],
   "source": [
    "velocity = np.array([[1000, 0, 0]])"
   ]
  },
  {
   "cell_type": "code",
   "execution_count": 71,
   "id": "bb636aad-4817-4e43-896e-6cf6c7c54860",
   "metadata": {},
   "outputs": [
    {
     "name": "stdout",
     "output_type": "stream",
     "text": [
      "[[ 0.  ]\n",
      " [ 8.66]\n",
      " [-8.66]]\n"
     ]
    }
   ],
   "source": [
    "wheel_velocity = np.around((np.linalg.inv(j2) @ j1) @ np.transpose(velocity) , 4)\n",
    "print(wheel_velocity)"
   ]
  }
 ],
 "metadata": {
  "kernelspec": {
   "display_name": "Python 3 (ipykernel)",
   "language": "python",
   "name": "python3"
  },
  "language_info": {
   "codemirror_mode": {
    "name": "ipython",
    "version": 3
   },
   "file_extension": ".py",
   "mimetype": "text/x-python",
   "name": "python",
   "nbconvert_exporter": "python",
   "pygments_lexer": "ipython3",
   "version": "3.9.9"
  }
 },
 "nbformat": 4,
 "nbformat_minor": 5
}
